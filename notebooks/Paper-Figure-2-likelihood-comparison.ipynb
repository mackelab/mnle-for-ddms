{
 "cells": [
  {
   "cell_type": "code",
   "execution_count": 1,
   "id": "835b1b13",
   "metadata": {},
   "outputs": [
    {
     "ename": "ModuleNotFoundError",
     "evalue": "No module named 'lanfactory'",
     "output_type": "error",
     "traceback": [
      "\u001b[0;31m---------------------------------------------------------------------------\u001b[0m",
      "\u001b[0;31mModuleNotFoundError\u001b[0m                       Traceback (most recent call last)",
      "Cell \u001b[0;32mIn[1], line 16\u001b[0m\n\u001b[1;32m     11\u001b[0m \u001b[38;5;28;01mfrom\u001b[39;00m \u001b[38;5;21;01mtorch\u001b[39;00m\u001b[38;5;21;01m.\u001b[39;00m\u001b[38;5;21;01mdistributions\u001b[39;00m\u001b[38;5;21;01m.\u001b[39;00m\u001b[38;5;21;01mtransforms\u001b[39;00m \u001b[38;5;28;01mimport\u001b[39;00m AffineTransform, identity_transform\n\u001b[1;32m     13\u001b[0m \u001b[38;5;66;03m# import lanfactory\u001b[39;00m\n\u001b[1;32m     14\u001b[0m \u001b[38;5;66;03m# import sbibm\u001b[39;00m\n\u001b[0;32m---> 16\u001b[0m \u001b[38;5;28;01mfrom\u001b[39;00m \u001b[38;5;21;01mutils\u001b[39;00m \u001b[38;5;28;01mimport\u001b[39;00m (\n\u001b[1;32m     17\u001b[0m     load_lan,\n\u001b[1;32m     18\u001b[0m     lan_likelihood_on_batch,\n\u001b[1;32m     19\u001b[0m     apply_lower_bound_given_mask,\n\u001b[1;32m     20\u001b[0m     huber_loss,\n\u001b[1;32m     21\u001b[0m     mean_squared_error,\n\u001b[1;32m     22\u001b[0m     decode_1d_to_2d_x,\n\u001b[1;32m     23\u001b[0m )\n",
      "File \u001b[0;32m~/qode/mnle-for-ddms/notebooks/utils.py:7\u001b[0m\n\u001b[1;32m      4\u001b[0m \u001b[38;5;28;01mfrom\u001b[39;00m \u001b[38;5;21;01mpathlib\u001b[39;00m \u001b[38;5;28;01mimport\u001b[39;00m Path\n\u001b[1;32m      5\u001b[0m \u001b[38;5;28;01mfrom\u001b[39;00m \u001b[38;5;21;01mtyping\u001b[39;00m \u001b[38;5;28;01mimport\u001b[39;00m Any, Tuple\n\u001b[0;32m----> 7\u001b[0m \u001b[38;5;28;01mimport\u001b[39;00m \u001b[38;5;21;01mlanfactory\u001b[39;00m\n\u001b[1;32m      8\u001b[0m \u001b[38;5;28;01mimport\u001b[39;00m \u001b[38;5;21;01mmatplotlib\u001b[39;00m\u001b[38;5;21;01m.\u001b[39;00m\u001b[38;5;21;01mpyplot\u001b[39;00m \u001b[38;5;28;01mas\u001b[39;00m \u001b[38;5;21;01mplt\u001b[39;00m\n\u001b[1;32m      9\u001b[0m \u001b[38;5;28;01mimport\u001b[39;00m \u001b[38;5;21;01mnumpy\u001b[39;00m \u001b[38;5;28;01mas\u001b[39;00m \u001b[38;5;21;01mnp\u001b[39;00m\n",
      "\u001b[0;31mModuleNotFoundError\u001b[0m: No module named 'lanfactory'"
     ]
    }
   ],
   "source": [
    "import matplotlib.pyplot as plt\n",
    "import matplotlib as mpl\n",
    "import numpy as np\n",
    "import pandas as pd\n",
    "import pickle\n",
    "import time\n",
    "import torch\n",
    "\n",
    "from pathlib import Path\n",
    "from scipy.stats import binom_test\n",
    "from torch.distributions.transforms import AffineTransform, identity_transform\n",
    "\n",
    "# import lanfactory\n",
    "# import sbibm\n",
    "\n",
    "from utils import (\n",
    "    load_lan,\n",
    "    lan_likelihood_on_batch,\n",
    "    apply_lower_bound_given_mask,\n",
    "    huber_loss,\n",
    "    mean_squared_error,\n",
    "    decode_1d_to_2d_x,\n",
    ")"
   ]
  },
  {
   "cell_type": "code",
   "execution_count": 2,
   "id": "a58ae681",
   "metadata": {},
   "outputs": [
    {
     "name": "stdout",
     "output_type": "stream",
     "text": [
      "seed 223174\n"
     ]
    }
   ],
   "source": [
    "# Plotting settings\n",
    "plt.style.use(\"plotting_settings.mplstyle\")\n",
    "# Colorblind color palette\n",
    "colors = [\n",
    "    \"#377eb8\",\n",
    "    \"#ff7f00\",\n",
    "    \"#4daf4a\",\n",
    "    \"#f781bf\",\n",
    "    \"#a65628\",\n",
    "    \"#984ea3\",\n",
    "    \"#999999\",\n",
    "    \"#e41a1c\",\n",
    "    \"#dede00\",\n",
    "]\n",
    "\n",
    "# Fix seed for figures.\n",
    "seed = 223174  # torch.randint(1000000, (1,))\n",
    "torch.manual_seed(seed)\n",
    "print(f\"seed {seed}\")\n",
    "\n",
    "BASE_DIR = Path.cwd().parent.as_posix()\n",
    "data_folder = BASE_DIR + \"/data/\"\n",
    "model_folder = BASE_DIR + \"/notebooks/mnle-lan-comparison/models/\"\n",
    "save_folder = BASE_DIR + \"/data/results/\"\n",
    "\n",
    "# Set log-likelihood lower bound for all methods, use 1e-7 as the highest bound used during training (e.g., for 10^11 budget LANs).\n",
    "l_lower_bound = 1e-7\n",
    "LL_LOWER_BOUND = np.log(l_lower_bound)"
   ]
  },
  {
   "cell_type": "markdown",
   "id": "ce1d2a31",
   "metadata": {},
   "source": [
    "## Load DDM task from `sbibm`"
   ]
  },
  {
   "cell_type": "code",
   "execution_count": 3,
   "id": "5279e900",
   "metadata": {},
   "outputs": [],
   "source": [
    "task = sbibm.get_task(\"ddm\")\n",
    "prior = task.get_prior_dist()\n",
    "simulator = task.get_simulator(seed=seed)  # Passing the seed to Julia.\n",
    "\n",
    "# Load pre-simulated test data\n",
    "with open(data_folder + \"ddm_training_and_test_data_10mio.p\", \"rb\") as fh:\n",
    "    theta, x_1d, xos_1d, thos = pickle.load(fh).values()\n",
    "\n",
    "xos = decode_1d_to_2d_x(xos_1d)"
   ]
  },
  {
   "cell_type": "markdown",
   "id": "4229e528",
   "metadata": {},
   "source": [
    "### Load pretrained LANs"
   ]
  },
  {
   "cell_type": "code",
   "execution_count": 4,
   "id": "38574e85",
   "metadata": {},
   "outputs": [
    {
     "name": "stdout",
     "output_type": "stream",
     "text": [
      "tanh\n",
      "linear\n",
      "tanh\n",
      "linear\n",
      "tanh\n",
      "tanh\n",
      "linear\n"
     ]
    }
   ],
   "source": [
    "dev = torch.device(\"cuda\") if torch.cuda.is_available() else torch.device(\"cpu\")\n",
    "\n",
    "lan_path_5, lan_5 = load_lan(budget=\"10_5_ours\")\n",
    "lan_path_8, lan_8 = load_lan(budget=\"10_8_ours\")\n",
    "lan_path_11, lan_11 = load_lan(budget=\"10_11\")"
   ]
  },
  {
   "cell_type": "markdown",
   "id": "de13b1a0",
   "metadata": {},
   "source": [
    "#### Define helper functions for computing likelihood accuracies systematically."
   ]
  },
  {
   "cell_type": "code",
   "execution_count": 5,
   "id": "868009d4",
   "metadata": {},
   "outputs": [],
   "source": [
    "def score_mnle(path_to_model, num_observations, num_thetas_per_observation):\n",
    "    \"\"\"Returns likelihood approximation metrics given a path to a pre-trained MNLE.\"\"\"\n",
    "\n",
    "    # load model\n",
    "    with open(path_to_model, \"rb\") as fh:\n",
    "        mnle, *_ = pickle.load(fh).values()\n",
    "\n",
    "    errors = []\n",
    "    for idx in range(num_observations):\n",
    "        # Sample test thetas from prior.\n",
    "        #         test_theta = test_thetas[idx]\n",
    "        test_theta = thos[idx][:num_thetas_per_observation]\n",
    "        xoi = xos_1d[idx].reshape(-1, 1)\n",
    "        rts = abs(xoi)\n",
    "\n",
    "        # Evaluate\n",
    "        lps_mnle_i = mnle.log_prob(\n",
    "            xos[idx].repeat(num_thetas_per_observation, 1), test_theta\n",
    "        ).detach()\n",
    "\n",
    "        # apply lower bound and ndt constraint.\n",
    "        rt_smaller_ndt = rts.repeat(1, test_theta.shape[0]) < test_theta[:, -1]\n",
    "        below_bound = lps_mnle_i < LL_LOWER_BOUND\n",
    "\n",
    "        mask = torch.logical_or(rt_smaller_ndt, below_bound).squeeze()\n",
    "\n",
    "        lps_mnle_i = apply_lower_bound_given_mask(\n",
    "            lps_mnle_i, mask, ll_lower_bound=LL_LOWER_BOUND\n",
    "        )\n",
    "        lps_true_i = task.get_log_likelihood(\n",
    "            test_theta, data=xoi.reshape(1, -1), l_lower_bound=np.exp(LL_LOWER_BOUND)\n",
    "        )\n",
    "\n",
    "        # Score\n",
    "        errors.append(\n",
    "            [\n",
    "                huber_loss(lps_mnle_i, lps_true_i),\n",
    "                huber_loss(lps_mnle_i.exp(), lps_true_i.exp()),\n",
    "                mean_squared_error(lps_mnle_i, lps_true_i),\n",
    "                mean_squared_error(lps_mnle_i.exp(), lps_true_i.exp()),\n",
    "            ]\n",
    "        )\n",
    "\n",
    "    return np.array(errors)\n",
    "\n",
    "\n",
    "def score_lan(\n",
    "    network_file_path,\n",
    "    num_observations,\n",
    "    num_thetas_per_observation,\n",
    "    apply_transform=True,\n",
    "):\n",
    "    \"\"\"Returns likelihood approximation metrics given a path to a pre-trained LAN.\"\"\"\n",
    "\n",
    "    # get network config from model folder.\n",
    "    with open(\n",
    "        list(network_file_path.parent.glob(\"*_network_config.pickle\"))[0], \"rb\"\n",
    "    ) as fh:\n",
    "        network_config = pickle.load(fh)\n",
    "\n",
    "    # load model\n",
    "    network = lanfactory.trainers.LoadTorchMLPInfer(\n",
    "        model_file_path=network_file_path, network_config=network_config, input_dim=6\n",
    "    )  # 4 params plus 2 data dims\n",
    "\n",
    "    # Transform scales param \"a\" by 0.5\n",
    "    if apply_transform:\n",
    "        transform = AffineTransform(\n",
    "            torch.zeros(1, 4), torch.tensor([[1.0, 0.5, 1.0, 1.0]])\n",
    "        )\n",
    "    else:\n",
    "        transform = identity_transform\n",
    "\n",
    "    errors = []\n",
    "    for idx in range(num_observations):\n",
    "        # Sample test thetas from prior.\n",
    "        test_theta = thos[idx][:num_thetas_per_observation]\n",
    "        xoi = xos_1d[idx].reshape(-1, 1)\n",
    "\n",
    "        # Evaluate\n",
    "        lps_lankde_i = lan_likelihood_on_batch(\n",
    "            xoi, test_theta, network, transform, device=dev\n",
    "        )\n",
    "        assert lps_lankde_i.shape == torch.Size((1, test_theta.shape[0]))\n",
    "        lps_lankde_i = lps_lankde_i.squeeze()\n",
    "\n",
    "        # apply lower bound and ndt constraint.\n",
    "        rt_smaller_ndt = abs(xoi).repeat(1, test_theta.shape[0]) < test_theta[:, -1]\n",
    "        is_below_bound = lps_lankde_i < LL_LOWER_BOUND\n",
    "\n",
    "        mask = torch.logical_or(rt_smaller_ndt, is_below_bound).squeeze()\n",
    "\n",
    "        lps_lankde_i = apply_lower_bound_given_mask(\n",
    "            lps_lankde_i, mask, ll_lower_bound=LL_LOWER_BOUND\n",
    "        )\n",
    "\n",
    "        # get true likelihood.\n",
    "        lps_true_i = task.get_log_likelihood(\n",
    "            test_theta, data=xoi, l_lower_bound=np.exp(LL_LOWER_BOUND)\n",
    "        )\n",
    "\n",
    "        # Score\n",
    "        errors.append(\n",
    "            [\n",
    "                huber_loss(lps_lankde_i, lps_true_i),\n",
    "                huber_loss(lps_lankde_i.exp(), lps_true_i.exp()),\n",
    "                mean_squared_error(lps_lankde_i, lps_true_i),\n",
    "                mean_squared_error(lps_lankde_i.exp(), lps_true_i.exp()),\n",
    "            ]\n",
    "        )\n",
    "\n",
    "    return np.array(errors)"
   ]
  },
  {
   "cell_type": "markdown",
   "id": "b76dd7ea",
   "metadata": {},
   "source": [
    "## Likelihood comparison for single example\n",
    "\n",
    "##### Sample example parameter from prior\n",
    "\n",
    "For creating a figure showing the likelihood over the entire data space given a fixed parameter combination we sample a single parameter combination from the prior and evaluate the synthetic likelihoods for a large range of reaction times and both choices, while holding the parameters fixed."
   ]
  },
  {
   "cell_type": "code",
   "execution_count": 6,
   "id": "de62e5e8",
   "metadata": {},
   "outputs": [
    {
     "data": {
      "text/plain": [
       "tensor([[-0.6000,  1.6000,  0.5000,  0.3000]])"
      ]
     },
     "execution_count": 6,
     "metadata": {},
     "output_type": "execute_result"
    }
   ],
   "source": [
    "# Sample one parameter from the prior for a likelihood example.\n",
    "# theta_o = prior.sample((1,))\n",
    "theta_o = torch.tensor([[-0.6, 1.6, 0.5, 0.3]])\n",
    "theta_o"
   ]
  },
  {
   "cell_type": "code",
   "execution_count": 7,
   "id": "70e92c01",
   "metadata": {},
   "outputs": [],
   "source": [
    "# Load pretrained MNLE model\n",
    "budget = 100000\n",
    "mnle_model_paths = list(Path(model_folder).glob(f\"*n{budget}_new_*\"))\n",
    "# pick a MNLE seed for visualization.\n",
    "path_to_mnle = mnle_model_paths[2]\n",
    "\n",
    "with open(path_to_mnle, \"rb\") as fh:\n",
    "    mnle, *_ = pickle.load(fh).values()"
   ]
  },
  {
   "cell_type": "code",
   "execution_count": 8,
   "id": "e8c611ca",
   "metadata": {},
   "outputs": [],
   "source": [
    "dev = torch.device(\"cuda\") if torch.cuda.is_available() else torch.device(\"cpu\")"
   ]
  },
  {
   "cell_type": "code",
   "execution_count": 9,
   "id": "62a28671",
   "metadata": {},
   "outputs": [
    {
     "name": "stderr",
     "output_type": "stream",
     "text": [
      "/home/janfb/qode/mnle-for-ddms/notebooks/utils.py:302: UserWarning: To copy construct from a tensor, it is recommended to use sourceTensor.clone().detach() or sourceTensor.clone().detach().requires_grad_(True), rather than torch.tensor(sourceTensor).\n",
      "  theta = torch.tensor(theta, dtype=torch.float32)\n",
      "/home/janfb/.local/lib/python3.7/site-packages/julia/core.py:691: FutureWarning: Accessing `Julia().<name>` to obtain Julia objects is deprecated.  Use `from julia import Main; Main.<name>` or `jl = Julia(); jl.eval('<name>')`.\n",
      "  FutureWarning,\n"
     ]
    }
   ],
   "source": [
    "# construct rts and choices for mnle in [-test_tmax, test_tmax]\n",
    "\n",
    "# RT range\n",
    "test_tmax = 2\n",
    "# Number of test points\n",
    "ntest = 1000\n",
    "rs = torch.cat(\n",
    "    (\n",
    "        torch.linspace(test_tmax, l_lower_bound, ntest // 2),\n",
    "        torch.linspace(l_lower_bound, test_tmax, ntest // 2),\n",
    "    )\n",
    ").reshape(-1, 1)\n",
    "cs = torch.cat((torch.zeros(ntest // 2), torch.ones(ntest // 2))).reshape(-1, 1)\n",
    "\n",
    "test_x = torch.hstack((rs, cs))\n",
    "test_rts = torch.linspace(-test_tmax, test_tmax, ntest)\n",
    "\n",
    "# get NLE synthetic likelihood for each data point with fixed theta.\n",
    "lps_mnle = mnle.log_prob(test_x, theta_o.repeat(test_x.shape[0], 1)).detach()\n",
    "below_bound = lps_mnle < LL_LOWER_BOUND\n",
    "lps_mnle[below_bound] = LL_LOWER_BOUND\n",
    "\n",
    "test_choices_lan = torch.cat((-torch.ones(ntest // 2), torch.ones(ntest // 2))).reshape(\n",
    "    -1, 1\n",
    ")\n",
    "# Transform scales param \"a\" by 0.5\n",
    "transform = AffineTransform(torch.zeros(1, 4), torch.tensor([[1.0, 0.5, 1.0, 1.0]]))\n",
    "\n",
    "# The 5 and 8 budgets are trained on our parametrization and dont need a transform.\n",
    "lps_lan_5 = lan_likelihood_on_batch(\n",
    "    test_rts.reshape(-1, 1), theta_o, lan_5, identity_transform, device=dev\n",
    ")\n",
    "lps_lan_8 = lan_likelihood_on_batch(\n",
    "    test_rts.reshape(-1, 1), theta_o, lan_8, identity_transform, device=dev\n",
    ")\n",
    "lps_lan_11 = lan_likelihood_on_batch(\n",
    "    test_rts.reshape(-1, 1), theta_o, lan_11, transform, device=dev\n",
    ")\n",
    "\n",
    "# from analytical likelihood\n",
    "lps_true = torch.tensor(\n",
    "    [\n",
    "        task.get_log_likelihood(theta_o, d.reshape(-1, 1), l_lower_bound=l_lower_bound)\n",
    "        for d in test_rts\n",
    "    ]\n",
    ")"
   ]
  },
  {
   "cell_type": "markdown",
   "id": "4d96868e",
   "metadata": {},
   "source": [
    "## Systematic Likelihood comparison\n",
    "\n",
    "Next we do a systematic comparison based on the Huber loss (the LAN training loss) and the mean squared error (MSE) between analytical and synthetic log likelihoods of LAN and NLE.\n",
    "\n",
    "During inference the observation is usually fixed and one evaluates the likelihood for a set of parameters sampled from the prior or a MCMC chain. To mimick this inference setup when comparison the estimated likelihoods, we sample an observation from the simulator given parameters from the prior, and obtain the likelihood of this observation given a large batch of parameters sampled from the prior, e.g., `1000`. The Huber loss and MSE are then calculated across this batch, resulting in a single number. We repeat this procedure for many observation, e.g., `100`, and then show boxplots over the resulting 100 numbers. "
   ]
  },
  {
   "cell_type": "code",
   "execution_count": 10,
   "id": "3c6e0fba",
   "metadata": {},
   "outputs": [
    {
     "name": "stdout",
     "output_type": "stream",
     "text": [
      "tanh\n",
      "linear\n",
      "tanh\n",
      "linear\n"
     ]
    },
    {
     "name": "stderr",
     "output_type": "stream",
     "text": [
      "/home/janfb/qode/mnle-for-ddms/notebooks/utils.py:302: UserWarning: To copy construct from a tensor, it is recommended to use sourceTensor.clone().detach() or sourceTensor.clone().detach().requires_grad_(True), rather than torch.tensor(sourceTensor).\n",
      "  theta = torch.tensor(theta, dtype=torch.float32)\n"
     ]
    },
    {
     "name": "stdout",
     "output_type": "stream",
     "text": [
      "tanh\n",
      "tanh\n",
      "linear\n"
     ]
    }
   ],
   "source": [
    "num_observations = 100\n",
    "num_thetas_per_observation = 1000\n",
    "\n",
    "# Take average error over 10 NN inits for MNLE.\n",
    "errors_mnle = torch.tensor(\n",
    "    np.array(\n",
    "        [\n",
    "            score_mnle(i_path, num_observations, num_thetas_per_observation)\n",
    "            for i_path in mnle_model_paths\n",
    "        ]\n",
    "    )\n",
    ").mean(0)\n",
    "errors_lan_5 = score_lan(\n",
    "    lan_path_5, num_observations, num_thetas_per_observation, apply_transform=False\n",
    ")\n",
    "errors_lan_8 = score_lan(\n",
    "    lan_path_8, num_observations, num_thetas_per_observation, apply_transform=False\n",
    ")\n",
    "errors_lan_11 = score_lan(\n",
    "    lan_path_11, num_observations, num_thetas_per_observation, apply_transform=True\n",
    ")"
   ]
  },
  {
   "cell_type": "code",
   "execution_count": 11,
   "id": "9bf0f91f",
   "metadata": {},
   "outputs": [
    {
     "data": {
      "text/plain": [
       "array([0.18871347, 0.0058507 , 1.03264777, 0.01053345])"
      ]
     },
     "execution_count": 11,
     "metadata": {},
     "output_type": "execute_result"
    }
   ],
   "source": [
    "errors_lan_11.mean(0)"
   ]
  },
  {
   "cell_type": "code",
   "execution_count": 12,
   "id": "4b705da5",
   "metadata": {},
   "outputs": [
    {
     "data": {
      "text/plain": [
       "tensor([0.2338, 0.0038, 0.9240, 0.0072], dtype=torch.float64)"
      ]
     },
     "execution_count": 12,
     "metadata": {},
     "output_type": "execute_result"
    }
   ],
   "source": [
    "errors_mnle.mean(0)"
   ]
  },
  {
   "cell_type": "code",
   "execution_count": 13,
   "id": "cea01869",
   "metadata": {},
   "outputs": [
    {
     "data": {
      "text/plain": [
       "array([0.43069616, 0.37413715, 0.18871347, 0.23378296])"
      ]
     },
     "execution_count": 13,
     "metadata": {},
     "output_type": "execute_result"
    }
   ],
   "source": [
    "import pandas as pd\n",
    "\n",
    "labels = [\n",
    "    \"analytical\",\n",
    "    r\"LAN$^5$\",\n",
    "    r\"LAN$^8$\",\n",
    "    r\"LAN$^{11}$\",\n",
    "    r\"MNLE$^5$\",\n",
    "]\n",
    "\n",
    "df_huber_log = pd.DataFrame(\n",
    "    data=np.hstack(\n",
    "        (\n",
    "            errors_lan_5[:, :1],\n",
    "            errors_lan_8[:, :1],\n",
    "            errors_lan_11[:, :1],\n",
    "            errors_mnle[:, :1],\n",
    "        )\n",
    "    ),\n",
    "    columns=labels[1:],\n",
    ")\n",
    "df_mse_log = pd.DataFrame(\n",
    "    data=np.hstack(\n",
    "        (\n",
    "            errors_lan_5[:, 2:3],\n",
    "            errors_lan_8[:, 2:3],\n",
    "            errors_lan_11[:, 2:3],\n",
    "            errors_mnle[:, 2:3],\n",
    "        )\n",
    "    ),\n",
    "    columns=labels[1:],\n",
    ")\n",
    "df_huber = pd.DataFrame(\n",
    "    data=np.hstack(\n",
    "        (\n",
    "            errors_lan_5[:, 1:2],\n",
    "            errors_lan_8[:, 1:2],\n",
    "            errors_lan_11[:, 1:2],\n",
    "            errors_mnle[:, 1:2],\n",
    "        )\n",
    "    ),\n",
    "    columns=labels[1:],\n",
    ")\n",
    "df_mse = pd.DataFrame(\n",
    "    data=np.hstack(\n",
    "        (\n",
    "            errors_lan_5[:, 3:4],\n",
    "            errors_lan_8[:, 3:4],\n",
    "            errors_lan_11[:, 3:4],\n",
    "            errors_mnle[:, 3:4],\n",
    "        )\n",
    "    ),\n",
    "    columns=labels[1:],\n",
    ")\n",
    "\n",
    "df_huber_log.values.mean(0)"
   ]
  },
  {
   "cell_type": "markdown",
   "id": "9cae9bc7",
   "metadata": {},
   "source": [
    "## Estimate evaluation times"
   ]
  },
  {
   "cell_type": "code",
   "execution_count": 14,
   "id": "2e39964e",
   "metadata": {},
   "outputs": [],
   "source": [
    "# Vary size of theta (number of MCMC chains in parallel)\n",
    "num_chains = [10]\n",
    "# Vary size of data (number of trials)\n",
    "num_trials = [100]\n",
    "reps = 100\n",
    "\n",
    "lan_rts = np.zeros((len(num_chains), len(num_trials), reps))\n",
    "mnle_rts = np.zeros_like(lan_rts)\n",
    "\n",
    "thetas = prior.sample((num_chains[-1],))\n",
    "xs = simulator(prior.sample((1,)).repeat(num_trials[-1], 1))\n",
    "\n",
    "for ii in range(reps):\n",
    "    for jj, nc in enumerate(num_chains):\n",
    "        for kk, nt in enumerate(num_trials):\n",
    "            # LAN timing\n",
    "            rts = abs(xs[:nt])\n",
    "            cs = torch.ones_like(rts)\n",
    "            cs[xs[:nt] < 0] = -1\n",
    "            tic = time.time()\n",
    "            lan_likelihood_on_batch(xs[:nt], thetas[:nc], lan_11, transform, device=dev)\n",
    "            lan_rts[jj, kk, ii] = time.time() - tic\n",
    "\n",
    "            # NLE timing\n",
    "            xi = torch.zeros((nt, 2))\n",
    "            xi[:, 0] = abs(xs[:nt, 0])\n",
    "            xi[xs[:nt, 0] > 0, 1] = 1\n",
    "            tic = time.time()\n",
    "            mnle.log_prob_iid(xi, thetas[:nc])\n",
    "            mnle_rts[jj, kk, ii] = time.time() - tic\n",
    "\n",
    "# convert ot ms\n",
    "lan_rts *= 1000\n",
    "mnle_rts *= 1000"
   ]
  },
  {
   "cell_type": "code",
   "execution_count": 15,
   "id": "82c02768",
   "metadata": {},
   "outputs": [
    {
     "name": "stdout",
     "output_type": "stream",
     "text": [
      "4.14 ms ± 10.5 µs per loop (mean ± std. dev. of 7 runs, 100 loops each)\n"
     ]
    }
   ],
   "source": [
    "%timeit mnle.log_prob_iid(xi, thetas[:nc])"
   ]
  },
  {
   "cell_type": "code",
   "execution_count": 16,
   "id": "38506851",
   "metadata": {},
   "outputs": [
    {
     "name": "stdout",
     "output_type": "stream",
     "text": [
      "448 µs ± 6.62 µs per loop (mean ± std. dev. of 7 runs, 1000 loops each)\n"
     ]
    }
   ],
   "source": [
    "%timeit lan_likelihood_on_batch(xs[:nt], thetas[:nc], lan_11, transform, device=dev)"
   ]
  },
  {
   "cell_type": "markdown",
   "id": "63d94251",
   "metadata": {},
   "source": [
    "## Results figure 1\n",
    "\n",
    "- likelihood examples\n",
    "\n",
    "- likelihood accuracy\n",
    "\n",
    "- number of simulations\n",
    "\n",
    "- evaluation time"
   ]
  },
  {
   "cell_type": "code",
   "execution_count": 17,
   "id": "aa2d8483",
   "metadata": {},
   "outputs": [
    {
     "name": "stderr",
     "output_type": "stream",
     "text": [
      "/home/janfb/anaconda3/envs/mnle/lib/python3.7/site-packages/ipykernel_launcher.py:109: UserWarning: This figure includes Axes that are not compatible with tight_layout, so results might be incorrect.\n",
      "findfont: Font family ['sans-serif'] not found. Falling back to DejaVu Sans.\n",
      "findfont: Generic family 'sans-serif' not found because none of the following families were found: open-sans\n",
      "findfont: Font family ['sans-serif'] not found. Falling back to DejaVu Sans.\n",
      "findfont: Generic family 'sans-serif' not found because none of the following families were found: open-sans\n",
      "findfont: Font family ['sans-serif'] not found. Falling back to DejaVu Sans.\n",
      "findfont: Generic family 'sans-serif' not found because none of the following families were found: open-sans\n"
     ]
    },
    {
     "data": {
      "image/png": "[encoded data removed]",
      "text/plain": [
       "<Figure size 1296x576 with 6 Axes>"
      ]
     },
     "metadata": {
      "needs_background": "light"
     },
     "output_type": "display_data"
    }
   ],
   "source": [
    "plt.style.use(\"plotting_settings.mplstyle\")\n",
    "fig, ax = plt.subplots(\n",
    "    2,\n",
    "    3,\n",
    "    sharex=\"col\",\n",
    "    figsize=(18, 8),\n",
    "    gridspec_kw=dict(wspace=0.31, hspace=0.45, width_ratios=[0.6, 0.2, 0.2]),\n",
    ")\n",
    "\n",
    "grid = False\n",
    "showfliers = False\n",
    "xticks = np.arange(-2, 2.1, 1)\n",
    "\n",
    "alphas = [1, 0.3, 0.6, 1, 1]\n",
    "plot_colors = [colors[0], colors[1], colors[1], colors[1], colors[2]]\n",
    "rotation = 45\n",
    "y_axis_setoff = -0.01\n",
    "mpl.rcParams[\"lines.linewidth\"] = 1.0\n",
    "lw = 2\n",
    "\n",
    "\n",
    "plt.sca(ax[0, 0])\n",
    "plt.plot(test_rts, lps_true.exp(), label=\"Analytical L\", c=colors[0], lw=lw + 1)\n",
    "plt.plot(\n",
    "    test_rts,\n",
    "    lps_lan_5.exp(),\n",
    "    label=labels[1],\n",
    "    ls=\"-\",\n",
    "    c=colors[1],\n",
    "    alpha=alphas[1],\n",
    "    lw=lw,\n",
    ")\n",
    "plt.plot(\n",
    "    test_rts,\n",
    "    lps_lan_8.exp(),\n",
    "    label=labels[2],\n",
    "    ls=\"-\",\n",
    "    c=colors[1],\n",
    "    alpha=alphas[2],\n",
    "    lw=lw,\n",
    ")\n",
    "plt.plot(\n",
    "    test_rts,\n",
    "    lps_lan_11.exp(),\n",
    "    label=labels[3],\n",
    "    ls=\"-\",\n",
    "    c=colors[1],\n",
    "    alpha=alphas[3],\n",
    "    lw=lw,\n",
    ")\n",
    "plt.plot(test_rts, lps_mnle.exp(), label=\"MNLE\", ls=\"-\", c=colors[2], lw=lw)\n",
    "plt.ylabel(r\"$p(x | \\theta)$\")\n",
    "plt.legend(labels, loc=1, handlelength=1.5, bbox_to_anchor=(1.03, 1.1))\n",
    "plt.xticks(xticks, [])\n",
    "plt.yticks(np.linspace(0, 1.4, 3))\n",
    "plt.ylim([-0.1, 1.4])\n",
    "plt.xlim(-2, 2)\n",
    "plt.axvline(0, color=\"k\", lw=1)\n",
    "y = max(lps_true.exp()) + 0.1\n",
    "plt.arrow(0, y, 0.1, 0.0, width=0.02, color=\"k\", alpha=0.5)\n",
    "plt.text(0.09, 1.05 * y, s=\"up\")\n",
    "plt.arrow(0, y, -0.1, 0.0, width=0.02, color=\"k\", alpha=0.5)\n",
    "plt.text(-0.45, 1.05 * y, s=\"down\")\n",
    "plt.gca().spines[\"left\"].set_position((\"axes\", y_axis_setoff))\n",
    "# plt.yticks(np.linspace(0, 4, 5), np.linspace(0, 4, 5))\n",
    "# plt.suptitle(fr\"v={theta_o[0, 0]:.2f}, a={theta_o[0, 1]:.2f}, w={theta_o[0, 2]:.2f}, $\\tau$={theta_o[0, 3]:.2f}\");\n",
    "\n",
    "plt.sca(ax[1, 0])\n",
    "plt.plot(test_rts, lps_true, c=colors[0], lw=lw + 1)\n",
    "# plt.plot(test_rts, lps_lanana)\n",
    "plt.plot(test_rts, lps_lan_5, ls=\"-\", c=colors[1], alpha=alphas[1], lw=lw)\n",
    "plt.plot(test_rts, lps_lan_8, ls=\"-\", c=colors[1], alpha=alphas[2], lw=lw)\n",
    "plt.plot(test_rts, lps_lan_11, ls=\"-\", c=colors[1], alpha=alphas[3], lw=lw)\n",
    "plt.plot(test_rts, lps_mnle, ls=\"-\", c=colors[2], lw=lw)\n",
    "# plt.legend(labels)\n",
    "plt.xlabel(\"$x$: reaction time [s]\")\n",
    "plt.ylabel(r\"$\\log p(x | \\theta)$\")\n",
    "plt.xticks(xticks, abs(xticks))\n",
    "plt.xlim(-2, 2)\n",
    "plt.axvline(0, color=\"k\", lw=1)\n",
    "plt.gca().spines[\"left\"].set_position((\"axes\", y_axis_setoff))\n",
    "\n",
    "y_axis_setoff = -0.03\n",
    "plt.sca(ax[0, 1])\n",
    "box_widths = [0.5] * 4\n",
    "pos = []\n",
    "width = 0.1\n",
    "pos_scale = 0.12\n",
    "for ii in range(4):\n",
    "    pos.append(ii * pos_scale)\n",
    "    plot_bar(\n",
    "        pos[ii],\n",
    "        width,\n",
    "        df_huber.values[:, ii],\n",
    "        label=labels[ii + 1],\n",
    "        color=plot_colors[ii + 1],\n",
    "        alpha=alphas[ii + 1],\n",
    "    )\n",
    "plt.xticks(pos, labels[1:], rotation=rotation)\n",
    "plt.ylabel(\"Huber loss\")\n",
    "plt.yticks(np.linspace(0, 0.02, 3))\n",
    "plt.ylim(0, 0.02)\n",
    "plt.gca().spines[\"left\"].set_position((\"axes\", y_axis_setoff))\n",
    "\n",
    "plt.sca(ax[0, 2])\n",
    "for ii in range(4):\n",
    "    plot_bar(\n",
    "        pos[ii],\n",
    "        width,\n",
    "        df_mse.values[:, ii],\n",
    "        label=labels[ii + 1],\n",
    "        color=plot_colors[ii + 1],\n",
    "        alpha=alphas[ii + 1],\n",
    "    )\n",
    "plt.xticks(pos, labels[1:], rotation=rotation)\n",
    "plt.ylabel(r\"MSE\")\n",
    "plt.yticks(np.linspace(0, 0.04, 3))\n",
    "plt.ylim(0, 0.04)\n",
    "plt.gca().spines[\"left\"].set_position((\"axes\", y_axis_setoff))\n",
    "\n",
    "\n",
    "plt.sca(ax[1, 1])\n",
    "for ii in range(4):\n",
    "    plot_bar(\n",
    "        pos[ii],\n",
    "        width,\n",
    "        df_huber_log.values[:, ii],\n",
    "        label=labels[ii + 1],\n",
    "        color=plot_colors[ii + 1],\n",
    "        alpha=alphas[ii + 1],\n",
    "    )\n",
    "plt.xticks(pos, labels[1:], rotation=rotation, fontsize=mpl.rcParams[\"axes.labelsize\"])\n",
    "plt.ylabel(\"Huber loss (log)\")\n",
    "plt.yticks(np.linspace(0, 0.6, 3))\n",
    "plt.ylim(0, 0.6)\n",
    "plt.gca().spines[\"left\"].set_position((\"axes\", y_axis_setoff))\n",
    "\n",
    "plt.sca(ax[1, 2])\n",
    "for ii in range(4):\n",
    "    plot_bar(\n",
    "        pos[ii],\n",
    "        width,\n",
    "        df_mse_log.values[:, ii],\n",
    "        label=labels[ii + 1],\n",
    "        color=plot_colors[ii + 1],\n",
    "        alpha=alphas[ii + 1],\n",
    "    )\n",
    "plt.xticks(pos, labels[1:], rotation=rotation, fontsize=mpl.rcParams[\"axes.labelsize\"])\n",
    "plt.ylabel(r\"MSE (log)\")\n",
    "plt.yticks(np.linspace(0, 3, 3))\n",
    "plt.ylim(0, 3)\n",
    "plt.gca().spines[\"left\"].set_position((\"axes\", y_axis_setoff))\n",
    "\n",
    "weight = \"bold\"\n",
    "fontsize = 20\n",
    "y1 = 0.9\n",
    "x1 = 0.07\n",
    "dx = 0.45\n",
    "dx2 = 0.64\n",
    "dy = 0.45\n",
    "fig.text(x1, y1, \"a\", fontsize=fontsize, fontweight=weight)\n",
    "fig.text(x1 + dx, y1, \"b\", fontsize=fontsize, fontweight=weight)\n",
    "fig.text(x1 + dx2, y1, \"c\", fontsize=fontsize, fontweight=weight)\n",
    "fig.text(x1 + dx, y1 - dy, \"d\", fontsize=fontsize, fontweight=weight)\n",
    "fig.text(x1 + dx2, y1 - dy, \"e\", fontsize=fontsize, fontweight=weight)\n",
    "plt.tight_layout()\n",
    "fig.savefig(\n",
    "    \"figures/Figure2-MNLE-LAN-likelihood-comparison.png\", dpi=300, bbox_inches=\"tight\"\n",
    ")\n",
    "fig.savefig(\"figures/Figure 2.pdf\", dpi=400, bbox_inches=\"tight\");"
   ]
  },
  {
   "cell_type": "markdown",
   "id": "2e5ce015",
   "metadata": {},
   "source": [
    "### Medians and pairwise comparisons"
   ]
  },
  {
   "cell_type": "code",
   "execution_count": 18,
   "id": "c038f292",
   "metadata": {},
   "outputs": [],
   "source": [
    "# rename columns for better access.\n",
    "df_huber.columns = [\"LAN5\", \"LAN8\", \"LAN\", \"MNLE\"]\n",
    "df_mse.columns = [\"LAN5\", \"LAN8\", \"LAN\", \"MNLE\"]\n",
    "df_huber_log.columns = [\"LAN5\", \"LAN8\", \"LAN\", \"MNLE\"]\n",
    "df_mse_log.columns = [\"LAN5\", \"LAN8\", \"LAN\", \"MNLE\"]"
   ]
  },
  {
   "cell_type": "code",
   "execution_count": 19,
   "id": "720bc284",
   "metadata": {},
   "outputs": [
    {
     "name": "stdout",
     "output_type": "stream",
     "text": [
      "linear scale\n"
     ]
    },
    {
     "data": {
      "text/plain": [
       "(LAN5    0.016608\n",
       " LAN8    0.007546\n",
       " LAN     0.005851\n",
       " MNLE    0.003765\n",
       " dtype: float64,\n",
       " LAN5    0.035513\n",
       " LAN8    0.013400\n",
       " LAN     0.010533\n",
       " MNLE    0.007237\n",
       " dtype: float64)"
      ]
     },
     "execution_count": 19,
     "metadata": {},
     "output_type": "execute_result"
    }
   ],
   "source": [
    "print(\"linear scale\")\n",
    "df_huber.mean(), df_mse.mean()"
   ]
  },
  {
   "cell_type": "code",
   "execution_count": 20,
   "id": "e1337b1a",
   "metadata": {},
   "outputs": [
    {
     "name": "stdout",
     "output_type": "stream",
     "text": [
      "log scale\n"
     ]
    },
    {
     "data": {
      "text/plain": [
       "(LAN5    0.430696\n",
       " LAN8    0.374137\n",
       " LAN     0.188713\n",
       " MNLE    0.233783\n",
       " dtype: float64,\n",
       " LAN5    2.267289\n",
       " LAN8    2.173839\n",
       " LAN     1.032648\n",
       " MNLE    0.924024\n",
       " dtype: float64)"
      ]
     },
     "execution_count": 20,
     "metadata": {},
     "output_type": "execute_result"
    }
   ],
   "source": [
    "print(\"log scale\")\n",
    "df_huber_log.mean(), df_mse_log.mean()"
   ]
  },
  {
   "cell_type": "code",
   "execution_count": 21,
   "id": "53abc07d",
   "metadata": {},
   "outputs": [],
   "source": [
    "# helper fun for comparisons\n",
    "def num_a_greater_b_and_binom_test(a, b):\n",
    "    num_a_greater_b = (a > b).sum()\n",
    "    return num_a_greater_b, binom_test(num_a_greater_b, num_observations, 0.5)"
   ]
  },
  {
   "cell_type": "code",
   "execution_count": 22,
   "id": "a9511f0b",
   "metadata": {},
   "outputs": [
    {
     "name": "stdout",
     "output_type": "stream",
     "text": [
      "Huber loss\n",
      "LAN > MNLE: 99, p=1.5934990285464438e-28\n",
      "LAN > MNLE: 81, p=2.7027625220487884e-10\n",
      "LAN > MNLE: 66, p=0.0017899303914868528\n",
      "MLE\n",
      "LAN > MNLE: 98, p=7.969072864542661e-27\n",
      "LAN > MNLE: 81, p=2.7027625220487884e-10\n",
      "LAN > MNLE: 66, p=0.0017899303914868528\n",
      "Huber loss (log)\n",
      "LAN > MNLE: 100, p=1.5777218104420236e-30\n",
      "LAN > MNLE: 100, p=1.5777218104420236e-30\n",
      "LAN > MNLE: 38, p=0.02097873567785172\n",
      "MSE (log)\n",
      "LAN > MNLE: 100, p=1.5777218104420236e-30\n",
      "LAN > MNLE: 100, p=1.5777218104420236e-30\n",
      "LAN > MNLE: 75, p=5.636282034205402e-07\n"
     ]
    }
   ],
   "source": [
    "print(\"Huber loss\")\n",
    "for ll in [df_huber.LAN5, df_huber.LAN8, df_huber.LAN]:\n",
    "    num_greater, binom_pvalue = num_a_greater_b_and_binom_test(a=ll, b=df_huber.MNLE)\n",
    "    print(f\"LAN > MNLE: {num_greater}, p={binom_pvalue}\")\n",
    "\n",
    "print(\"MLE\")\n",
    "for ll in [df_mse.LAN5, df_mse.LAN8, df_mse.LAN]:\n",
    "    num_greater, binom_pvalue = num_a_greater_b_and_binom_test(a=ll, b=df_mse.MNLE)\n",
    "    print(f\"LAN > MNLE: {num_greater}, p={binom_pvalue}\")\n",
    "\n",
    "print(\"Huber loss (log)\")\n",
    "for ll in [df_huber_log.LAN5, df_huber_log.LAN8, df_huber_log.LAN]:\n",
    "    num_greater, binom_pvalue = num_a_greater_b_and_binom_test(\n",
    "        a=ll, b=df_huber_log.MNLE\n",
    "    )\n",
    "    print(f\"LAN > MNLE: {num_greater}, p={binom_pvalue}\")\n",
    "\n",
    "print(\"MSE (log)\")\n",
    "for ll in [df_mse_log.LAN5, df_mse_log.LAN8, df_mse_log.LAN]:\n",
    "    num_greater, binom_pvalue = num_a_greater_b_and_binom_test(a=ll, b=df_mse_log.MNLE)\n",
    "    print(f\"LAN > MNLE: {num_greater}, p={binom_pvalue}\")"
   ]
  },
  {
   "cell_type": "code",
   "execution_count": null,
   "id": "e2512483",
   "metadata": {},
   "outputs": [],
   "source": []
  }
 ],
 "metadata": {
  "kernelspec": {
   "display_name": "Python 3 (ipykernel)",
   "language": "python",
   "name": "python3"
  },
  "language_info": {
   "codemirror_mode": {
    "name": "ipython",
    "version": 3
   },
   "file_extension": ".py",
   "mimetype": "text/x-python",
   "name": "python",
   "nbconvert_exporter": "python",
   "pygments_lexer": "ipython3",
   "version": "3.9.16"
  }
 },
 "nbformat": 4,
 "nbformat_minor": 5
}
