{
 "cells": [
  {
   "cell_type": "code",
   "execution_count": 1,
   "id": "8c0b90d0",
   "metadata": {},
   "outputs": [],
   "source": [
    "from sbi.inference import MNLE\n",
    "from pyro.distributions import InverseGamma\n",
    "from torch.distributions import Beta, Binomial, Gamma\n",
    "from sbi.utils import MultipleIndependent\n",
    "\n",
    "from sbi.inference import MCMCPosterior, VIPosterior, RejectionPosterior\n",
    "from sbi.utils.torchutils import atleast_2d\n",
    "\n",
    "from sbi.utils import mcmc_transform\n",
    "from sbi.inference.potentials.base_potential import BasePotential"
   ]
  },
  {
   "cell_type": "markdown",
   "id": "a2c470fe",
   "metadata": {},
   "source": [
    "## Pyro inference over the mixed_simulator"
   ]
  },
  {
   "cell_type": "code",
   "execution_count": 2,
   "id": "9c7d09be",
   "metadata": {},
   "outputs": [
    {
     "name": "stderr",
     "output_type": "stream",
     "text": [
      "Sample: 100%|████████████████████████████████████████| 1100/1100 [00:11, 94.69it/s, step size=3.71e-01, acc. prob=0.980]                                                                                    "
     ]
    },
    {
     "name": "stdout",
     "output_type": "stream",
     "text": [
      "\n",
      "                mean       std    median     25.0%     75.0%     n_eff     r_hat\n",
      "   rate[0]      0.58      0.04      0.58      0.55      0.61    576.76      1.00\n",
      "    rho[0]      0.98      0.01      0.98      0.98      0.99    634.66      1.00\n",
      "\n",
      "Number of divergences: 0\n"
     ]
    },
    {
     "name": "stderr",
     "output_type": "stream",
     "text": [
      "\n"
     ]
    }
   ],
   "source": [
    "import pyro\n",
    "import pyro.distributions as dist\n",
    "import pyro.poutine as poutine\n",
    "from pyro.infer import MCMC, NUTS\n",
    "import torch \n",
    "\n",
    "def model():\n",
    "    # prior\n",
    "    rho = pyro.sample(\"rho\", dist.Beta(torch.tensor([2.0]), torch.tensor([2.0])))\n",
    "    rate = pyro.sample(\"rate\", dist.Gamma(torch.tensor([1.]), torch.tensor([.5])))\n",
    "    \n",
    "    # simulator\n",
    "    choices = pyro.sample(\"choices\", dist.Binomial(probs=rho))\n",
    "    rts = pyro.sample(\"rts\", dist.InverseGamma(concentration=2 * torch.ones_like(rate), rate=rate))\n",
    "    \n",
    "    return torch.cat((rts, choices))\n",
    "\n",
    "# conditioning\n",
    "def conditioned_model(model, data):\n",
    "    return poutine.condition(model, data={\"rts\": data[:, 0], \"choices\": data[:, 1]})()\n",
    "\n",
    "# generate observation\n",
    "num_trials= 100\n",
    "data = model().repeat(num_trials, 1)\n",
    "data.shape\n",
    "\n",
    "# run MCMC\n",
    "nuts_kernel = NUTS(conditioned_model, jit_compile=False)\n",
    "mcmc = MCMC(\n",
    "    nuts_kernel,\n",
    "    num_samples=1000,\n",
    "    warmup_steps=100,\n",
    "    num_chains=1,\n",
    ")\n",
    "mcmc.run(model, data)\n",
    "mcmc.summary(prob=0.5)"
   ]
  },
  {
   "cell_type": "markdown",
   "id": "426d46b0",
   "metadata": {},
   "source": [
    "## Pyro inference with mixed_simulator wrapped in custom distribution \n",
    "\n",
    "By wrapping the mixed simulator into a Pyro Distribution we can treat it as such in the common Pyro `model` framework:"
   ]
  },
  {
   "cell_type": "code",
   "execution_count": 3,
   "id": "f329ee60",
   "metadata": {},
   "outputs": [],
   "source": [
    "from pyro.distributions import constraints\n",
    "\n",
    "class MixedSimulator(dist.Distribution):\n",
    "    \n",
    "    # Important: we need to define constraints and the support.\n",
    "    arg_constraints = {\n",
    "        \"rho\": constraints.interval(0, 1),\n",
    "        \"rate\": constraints.positive,\n",
    "    }\n",
    "    # Note: we a discrete support for the choices.\n",
    "    support = constraints.independent(\n",
    "                constraints.cat([constraints.positive, constraints.integer_interval(0, 1)], dim=1),\n",
    "                reinterpreted_batch_ndims=1,\n",
    "        )\n",
    "    \n",
    "    def __init__(self, rho, rate, validate_args=None):\n",
    "        self._binomial = dist.Binomial(probs=rho)\n",
    "        self._inverse_gamma = dist.InverseGamma(concentration=2 * torch.ones_like(rate), rate=rate)\n",
    "\n",
    "    @property\n",
    "    def rho(self):\n",
    "        return self._binomial.probs\n",
    "\n",
    "    @property\n",
    "    def rate(self):\n",
    "        return self._inverse_gamma.rate\n",
    "\n",
    "    def sample(self, sample_shape=torch.Size()):\n",
    "        choices = self._binomial.sample(sample_shape)\n",
    "        rts = self._inverse_gamma.sample(sample_shape)\n",
    "        \n",
    "        return torch.cat((rts, choices), dim=-1)\n",
    "    \n",
    "    def log_prob(self, x):\n",
    "        rts, choices = x.T\n",
    "        return self._inverse_gamma.log_prob(rts) + self._binomial.log_prob(choices)"
   ]
  },
  {
   "cell_type": "markdown",
   "id": "ad71b1a5",
   "metadata": {},
   "source": [
    "### Pyro plate notation enables fast changing of number of trials!\n",
    "\n",
    "Note how the posterior centers on the true params as we increase `num_trials`."
   ]
  },
  {
   "cell_type": "code",
   "execution_count": 5,
   "id": "6d48f38d",
   "metadata": {
    "scrolled": false
   },
   "outputs": [
    {
     "name": "stderr",
     "output_type": "stream",
     "text": [
      "Sample: 100%|███████████████████████████████████████| 1100/1100 [00:07, 155.37it/s, step size=7.88e-01, acc. prob=0.927]                                                                                    "
     ]
    },
    {
     "name": "stdout",
     "output_type": "stream",
     "text": [
      "\n",
      "                mean       std    median     25.0%     75.0%     n_eff     r_hat\n",
      "   rate[0]      1.01      0.02      1.01      1.00      1.03    967.41      1.00\n",
      "    rho[0]      0.51      0.02      0.51      0.50      0.52    523.97      1.00\n",
      "\n",
      "Number of divergences: 0\n"
     ]
    },
    {
     "name": "stderr",
     "output_type": "stream",
     "text": [
      "\n"
     ]
    }
   ],
   "source": [
    "def model(trials=None):\n",
    "    # prior\n",
    "    rho = pyro.sample(\"rho\", dist.Beta(torch.tensor([2.0]), torch.tensor([2.0])))\n",
    "    rate = pyro.sample(\"rate\", dist.Gamma(torch.tensor([1.]), torch.tensor([.5])))\n",
    "    \n",
    "    num_trials = 1 if trials is None else len(trials) \n",
    "    \n",
    "    with pyro.plate(\"data\", num_trials):\n",
    "        return pyro.sample(\"obs\", MixedSimulator(rho, rate), obs=trials)\n",
    "\n",
    "\n",
    "# generate observation\n",
    "num_trials= 1000\n",
    "trials = MixedSimulator(rho=torch.tensor([0.5]), rate=torch.tensor([1.0])).sample((num_trials,))\n",
    "\n",
    "# run MCMC\n",
    "nuts_kernel = NUTS(model, jit_compile=False)\n",
    "mcmc = MCMC(\n",
    "    nuts_kernel,\n",
    "    num_samples=1000,\n",
    "    warmup_steps=100,\n",
    "    num_chains=1,\n",
    ")\n",
    "mcmc.run(trials)\n",
    "mcmc.summary(prob=0.5)"
   ]
  },
  {
   "cell_type": "code",
   "execution_count": 6,
   "id": "2f2f3532",
   "metadata": {},
   "outputs": [
    {
     "data": {
      "image/png": "[encoded data removed]",
      "text/plain": [
       "<Figure size 993.6x331.2 with 2 Axes>"
      ]
     },
     "metadata": {
      "needs_background": "light"
     },
     "output_type": "display_data"
    }
   ],
   "source": [
    "import arviz as az\n",
    "\n",
    "idata = az.from_pyro(mcmc)\n",
    "az.plot_posterior(idata);"
   ]
  },
  {
   "cell_type": "markdown",
   "id": "e7a6518a",
   "metadata": {},
   "source": [
    "## Can we do the same with the MNLE object? "
   ]
  },
  {
   "cell_type": "code",
   "execution_count": 7,
   "id": "4066e00b",
   "metadata": {},
   "outputs": [],
   "source": [
    "# Toy simulator for mixed data\n",
    "def mixed_simulator(theta):\n",
    "    rate, ps = theta[:, :1], theta[:, 1:]\n",
    "\n",
    "    choices = Binomial(probs=ps).sample()\n",
    "    rts = InverseGamma(concentration=2 * torch.ones_like(rate), rate=rate).sample()\n",
    "\n",
    "    return torch.cat((rts, choices), dim=1)\n",
    "\n",
    "\n",
    "# Define independent priors for each dimension.\n",
    "prior = MultipleIndependent(\n",
    "    [\n",
    "        Gamma(torch.tensor([1.0]), torch.tensor([0.5])),  # rate\n",
    "        Beta(torch.tensor([2.0]), torch.tensor([2.0])),  # rho\n",
    "    ],\n",
    "    validate_args=False,\n",
    ")"
   ]
  },
  {
   "cell_type": "code",
   "execution_count": 13,
   "id": "b5cc9fdb",
   "metadata": {},
   "outputs": [
    {
     "name": "stderr",
     "output_type": "stream",
     "text": [
      "/Users/janbolts/opt/anaconda3/envs/mnle/lib/python3.8/site-packages/sbi/neural_nets/mnle.py:60: UserWarning: The mixed neural likelihood estimator assumes that x contains\n",
      "        continuous data in the first n-1 columns (e.g., reaction times) and\n",
      "        categorical data in the last column (e.g., corresponding choices). If\n",
      "        this is not the case for the passed `x` do not use this function.\n",
      "  warnings.warn(\n"
     ]
    },
    {
     "name": "stdout",
     "output_type": "stream",
     "text": [
      " Neural network successfully converged after 65 epochs."
     ]
    }
   ],
   "source": [
    "# Generate training data and train MNLE.\n",
    "num_simulations = 10000\n",
    "theta = prior.sample((num_simulations,))\n",
    "x = mixed_simulator(theta)\n",
    "\n",
    "trainer = MNLE(prior)\n",
    "likelihood_estimator = trainer.append_simulations(theta, x).train()"
   ]
  },
  {
   "cell_type": "code",
   "execution_count": 28,
   "id": "b2839d9c",
   "metadata": {},
   "outputs": [],
   "source": [
    "class MNLESimulator(dist.Distribution):\n",
    "    \n",
    "    # Important: we need to define constraints and the support.\n",
    "    arg_constraints = {\n",
    "        \"rate\": constraints.positive,\n",
    "        \"rho\": constraints.interval(0, 1),\n",
    "    }\n",
    "    # Note: we a discrete support for the choices.\n",
    "    support = constraints.independent(\n",
    "                constraints.cat([constraints.positive, constraints.integer_interval(0, 1)], dim=1),\n",
    "                reinterpreted_batch_ndims=1,\n",
    "        )\n",
    "    \n",
    "    def __init__(self, rho, rate, mnle, validate_args=None):\n",
    "        self._theta = torch.cat((torch.atleast_2d(rate), torch.atleast_2d(rho)), dim=1)\n",
    "        self._mnle = mnle\n",
    "    \n",
    "    @property\n",
    "    def rate(self):\n",
    "        return self._theta[:, 0]\n",
    "        \n",
    "    @property\n",
    "    def rho(self):\n",
    "        return self._theta[:, 1]\n",
    "\n",
    "    def sample(self, sample_shape=torch.Size()):\n",
    "        sample_shape = torch.Size(sample_shape)\n",
    "        return self._mnle.sample(theta=self._theta, num_samples=sample_shape.numel())\n",
    "    \n",
    "    def log_prob(self, x):\n",
    "        return self._mnle.log_prob(x, self._theta.repeat(x.shape[0], 1))"
   ]
  },
  {
   "cell_type": "code",
   "execution_count": 29,
   "id": "f97d1790",
   "metadata": {},
   "outputs": [],
   "source": [
    "mms = MNLESimulator(rho=torch.tensor([0.5]), rate=torch.tensor([1.0]), mnle=likelihood_estimator)"
   ]
  },
  {
   "cell_type": "code",
   "execution_count": 32,
   "id": "0cef6136",
   "metadata": {},
   "outputs": [
    {
     "name": "stderr",
     "output_type": "stream",
     "text": [
      "Sample: 100%|████████████████████████████████████████| 1100/1100 [03:04,  5.97it/s, step size=5.10e-01, acc. prob=0.966]                                                                                    "
     ]
    },
    {
     "name": "stdout",
     "output_type": "stream",
     "text": [
      "\n",
      "                mean       std    median     25.0%     75.0%     n_eff     r_hat\n",
      "   rate[0]      1.04      0.02      1.04      1.03      1.06    607.94      1.00\n",
      "    rho[0]      0.52      0.01      0.53      0.52      0.53    492.12      1.00\n",
      "\n",
      "Number of divergences: 0\n"
     ]
    },
    {
     "name": "stderr",
     "output_type": "stream",
     "text": [
      "\n"
     ]
    }
   ],
   "source": [
    "def model(trials=None):\n",
    "    # prior\n",
    "    rho = pyro.sample(\"rho\", dist.Beta(torch.tensor([2.0]), torch.tensor([2.0])))\n",
    "    rate = pyro.sample(\"rate\", dist.Gamma(torch.tensor([1.]), torch.tensor([.5])))\n",
    "    \n",
    "    num_trials = 1 if trials is None else len(trials) \n",
    "    \n",
    "    with pyro.plate(\"data\", num_trials):\n",
    "        return pyro.sample(\"obs\", MNLESimulator(rho, rate, mnle=likelihood_estimator), obs=trials)\n",
    "\n",
    "\n",
    "# generate observation\n",
    "num_trials= 1000\n",
    "trials = MixedSimulator(rho=torch.tensor([0.5]), rate=torch.tensor([1.0])).sample((num_trials,))\n",
    "\n",
    "# run MCMC\n",
    "nuts_kernel = NUTS(model, jit_compile=False)\n",
    "mcmc = MCMC(\n",
    "    nuts_kernel,\n",
    "    num_samples=1000,\n",
    "    warmup_steps=100,\n",
    "    num_chains=1,\n",
    ")\n",
    "mcmc.run(trials)\n",
    "mcmc.summary(prob=0.5)"
   ]
  },
  {
   "cell_type": "code",
   "execution_count": 33,
   "id": "4b45d00e",
   "metadata": {},
   "outputs": [
    {
     "name": "stderr",
     "output_type": "stream",
     "text": [
      "/Users/janbolts/opt/anaconda3/envs/mnle/lib/python3.8/site-packages/arviz/data/io_pyro.py:157: UserWarning: Could not get vectorized trace, log_likelihood group will be omitted. Check your model vectorization or set log_likelihood=False\n",
      "  warnings.warn(\n"
     ]
    },
    {
     "data": {
      "image/png": "[encoded data removed]",
      "text/plain": [
       "<Figure size 993.6x331.2 with 2 Axes>"
      ]
     },
     "metadata": {
      "needs_background": "light"
     },
     "output_type": "display_data"
    }
   ],
   "source": [
    "idata = az.from_pyro(mcmc)\n",
    "az.plot_posterior(idata);"
   ]
  },
  {
   "cell_type": "code",
   "execution_count": null,
   "id": "7493b266",
   "metadata": {},
   "outputs": [],
   "source": []
  }
 ],
 "metadata": {
  "kernelspec": {
   "display_name": "Python 3.8.13 64-bit ('sbi')",
   "language": "python",
   "name": "python3"
  },
  "language_info": {
   "codemirror_mode": {
    "name": "ipython",
    "version": 3
   },
   "file_extension": ".py",
   "mimetype": "text/x-python",
   "name": "python",
   "nbconvert_exporter": "python",
   "pygments_lexer": "ipython3",
   "version": "3.8.13"
  },
  "vscode": {
   "interpreter": {
    "hash": "9ef9b53a5ce850816b9705a866e49207a37a04a71269aa157d9f9ab944ea42bf"
   }
  }
 },
 "nbformat": 4,
 "nbformat_minor": 5
}
