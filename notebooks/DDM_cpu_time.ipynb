{
 "cells": [
  {
   "cell_type": "code",
   "execution_count": 2,
   "id": "05005507",
   "metadata": {},
   "outputs": [],
   "source": [
    "from typing import Dict, List, Union\n",
    "\n",
    "import numpy as np\n",
    "import sdeint\n",
    "import torch\n",
    "\n",
    "from sbi.utils.torchutils import atleast_2d_float32_tensor"
   ]
  },
  {
   "cell_type": "code",
   "execution_count": 4,
   "id": "1d443b0e",
   "metadata": {},
   "outputs": [],
   "source": [
    "input_dict = dict(starting_point=0.5, boundary_separation=2.0, drift=0.5, )"
   ]
  },
  {
   "cell_type": "code",
   "execution_count": 6,
   "id": "4977e727",
   "metadata": {},
   "outputs": [],
   "source": [
    "def run(input_dict): \n",
    "    rt = 0\n",
    "    # set the diffusion to 1\n",
    "    diffusion = 1\n",
    "    # define time interval and number of intermediate steps\n",
    "    tmax = 4.0\n",
    "    n_steps = 4000\n",
    "    tspan = np.linspace(0.0, tmax, n_steps)\n",
    "\n",
    "    # compute the absolute starting point by multiplying the relative starting point\n",
    "    # with the boundary separation\n",
    "    starting_point = (\n",
    "        input_dict[\"starting_point\"] * input_dict[\"boundary_separation\"]\n",
    "    )\n",
    "\n",
    "    # f describes the deterministic part of the SDE\n",
    "    def f(x, t):\n",
    "        return input_dict[\"drift\"]\n",
    "\n",
    "    # g describes the noise/diffusion\n",
    "    def g(x, t):\n",
    "        return diffusion\n",
    "\n",
    "    # use a Runge-Kutte solver to compute the trajectory of the decision variable\n",
    "    traj = sdeint.itoSRI2(f, g, starting_point, tspan).flatten()\n",
    "\n",
    "    # check which boundary has been crossed (first)\n",
    "    lower_bound = 0\n",
    "    upper_bound = input_dict[\"boundary_separation\"]\n",
    "    pass_lower_bound = np.where(traj < lower_bound)[0]\n",
    "    pass_upper_bound = np.where(traj > upper_bound)[0]\n",
    "\n",
    "    if pass_lower_bound.size > 0 and pass_upper_bound.size > 0:\n",
    "        if pass_lower_bound[0] < pass_upper_bound[0]:\n",
    "            rt, choice = tspan[pass_lower_bound[0]], 0\n",
    "        else:\n",
    "            rt, choice = tspan[pass_upper_bound[0]], 1\n",
    "    elif pass_lower_bound.size > 0:\n",
    "        rt, choice = tspan[pass_lower_bound[0]], 0\n",
    "    elif pass_upper_bound.size > 0:\n",
    "        rt, choice = tspan[pass_upper_bound[0]], 1\n",
    "    # if no boundary has been crossed, return nan\n",
    "    else:\n",
    "        rt, choice = torch.nan, torch.nan\n",
    "\n",
    "    return torch.cat(\n",
    "        (atleast_2d_float32_tensor(rt), atleast_2d_float32_tensor(choice)), dim=1\n",
    "    )"
   ]
  },
  {
   "cell_type": "code",
   "execution_count": 8,
   "id": "c087fd67",
   "metadata": {},
   "outputs": [
    {
     "name": "stdout",
     "output_type": "stream",
     "text": [
      "95.9 ms ± 211 µs per loop (mean ± std. dev. of 7 runs, 10 loops each)\n"
     ]
    }
   ],
   "source": [
    "%timeit run(input_dict)"
   ]
  },
  {
   "cell_type": "code",
   "execution_count": 17,
   "id": "ec3cf4b2",
   "metadata": {},
   "outputs": [
    {
     "name": "stdout",
     "output_type": "stream",
     "text": [
      "2.777777777777778\n",
      "2777777.777777778\n"
     ]
    }
   ],
   "source": [
    "ms_per_sim = 100  # ms\n",
    "s_per_sim = ms_per_sim / 1000\n",
    "hour_per_sim = s_per_sim / 60 / 60\n",
    "\n",
    "print(hour_per_sim * 10**5)\n",
    "print(hour_per_sim * 10**11)"
   ]
  },
  {
   "cell_type": "code",
   "execution_count": null,
   "id": "4caea832",
   "metadata": {},
   "outputs": [],
   "source": []
  }
 ],
 "metadata": {
  "kernelspec": {
   "display_name": "Python 3 (ipykernel)",
   "language": "python",
   "name": "python3"
  },
  "language_info": {
   "codemirror_mode": {
    "name": "ipython",
    "version": 3
   },
   "file_extension": ".py",
   "mimetype": "text/x-python",
   "name": "python",
   "nbconvert_exporter": "python",
   "pygments_lexer": "ipython3",
   "version": "3.8.13"
  }
 },
 "nbformat": 4,
 "nbformat_minor": 5
}
